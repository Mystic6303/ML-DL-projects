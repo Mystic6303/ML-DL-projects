{
  "nbformat": 4,
  "nbformat_minor": 0,
  "metadata": {
    "colab": {
      "provenance": []
    },
    "kernelspec": {
      "name": "python3",
      "display_name": "Python 3"
    },
    "language_info": {
      "name": "python"
    }
  },
  "cells": [
    {
      "cell_type": "code",
      "execution_count": null,
      "metadata": {
        "colab": {
          "base_uri": "https://localhost:8080/"
        },
        "id": "UlBQhf7JnF4E",
        "outputId": "e9b78948-babf-4ddc-857a-e9a62dfccab1"
      },
      "outputs": [
        {
          "output_type": "stream",
          "name": "stdout",
          "text": [
            "Downloading data from https://storage.googleapis.com/tensorflow/tf-keras-datasets/mnist.npz\n",
            "11490434/11490434 [==============================] - 0s 0us/step\n"
          ]
        },
        {
          "output_type": "execute_result",
          "data": {
            "text/plain": [
              "(60000, 28, 28)"
            ]
          },
          "metadata": {},
          "execution_count": 2
        }
      ],
      "source": [
        "import tensorflow as tf\n",
        "\n",
        "# Loading the dataset\n",
        "mnist = tf.keras.datasets.mnist\n",
        "\n",
        "# Divide into training and test dataset\n",
        "(x_train, y_train),(x_test, y_test) = mnist.load_data()\n",
        "\n",
        "x_train.shape\n",
        "# (60000, 28, 28)"
      ]
    },
    {
      "cell_type": "code",
      "source": [
        "import matplotlib.pyplot as plt\n",
        "plt.imshow(x_train[1])\n",
        "plt.show()"
      ],
      "metadata": {
        "colab": {
          "base_uri": "https://localhost:8080/",
          "height": 430
        },
        "id": "_ZW_L5ZLnR_I",
        "outputId": "0cc2fa34-5342-4ec3-c4bd-68ca6dd553e1"
      },
      "execution_count": null,
      "outputs": [
        {
          "output_type": "display_data",
          "data": {
            "text/plain": [
              "<Figure size 640x480 with 1 Axes>"
            ],
            "image/png": "[encoded data removed]"
          },
          "metadata": {}
        }
      ]
    },
    {
      "cell_type": "code",
      "source": [
        "plt.imshow(x_train[1], cmap = plt.cm.binary)"
      ],
      "metadata": {
        "colab": {
          "base_uri": "https://localhost:8080/",
          "height": 447
        },
        "id": "fMRFHSuMnaw-",
        "outputId": "add1a356-44ac-4d7a-9066-87e01d8f60bf"
      },
      "execution_count": null,
      "outputs": [
        {
          "output_type": "execute_result",
          "data": {
            "text/plain": [
              "<matplotlib.image.AxesImage at 0x7beb6a5af190>"
            ]
          },
          "metadata": {},
          "execution_count": 4
        },
        {
          "output_type": "display_data",
          "data": {
            "text/plain": [
              "<Figure size 640x480 with 1 Axes>"
            ],
            "image/png": "[encoded data removed]"
          },
          "metadata": {}
        }
      ]
    },
    {
      "cell_type": "code",
      "source": [
        "x_train = tf.keras.utils.normalize(x_train, axis = 1)\n",
        "x_test = tf.keras.utils.normalize(x_test, axis = 1)\n",
        "plt.imshow(x_train[1], cmap = plt.cm.binary)"
      ],
      "metadata": {
        "colab": {
          "base_uri": "https://localhost:8080/",
          "height": 447
        },
        "id": "msv-l1SQnj7H",
        "outputId": "b9f12159-316e-4dc1-ee5e-0b54ed2a7bc5"
      },
      "execution_count": null,
      "outputs": [
        {
          "output_type": "execute_result",
          "data": {
            "text/plain": [
              "<matplotlib.image.AxesImage at 0x7beb6a600340>"
            ]
          },
          "metadata": {},
          "execution_count": 5
        },
        {
          "output_type": "display_data",
          "data": {
            "text/plain": [
              "<Figure size 640x480 with 1 Axes>"
            ],
            "image/png": "[encoded data removed]"
          },
          "metadata": {}
        }
      ]
    },
    {
      "cell_type": "code",
      "source": [
        "print(y_train[1])"
      ],
      "metadata": {
        "colab": {
          "base_uri": "https://localhost:8080/"
        },
        "id": "pmBNX04ynvx2",
        "outputId": "c1daf7e0-09ba-4c39-a617-e0592dca8137"
      },
      "execution_count": null,
      "outputs": [
        {
          "output_type": "stream",
          "name": "stdout",
          "text": [
            "0\n"
          ]
        }
      ]
    },
    {
      "cell_type": "code",
      "source": [
        "#input data has a shape of (batch_size, height, width, depth)\n",
        "import numpy as np\n",
        "IMG_SIZE=28\n",
        "# -1 is a shorthand, which returns the length of the dataset i.e 60000\n",
        "x_trainr = np.array(x_train).reshape(-1, IMG_SIZE, IMG_SIZE, 1)\n",
        "x_testr = np.array(x_test).reshape(-1, IMG_SIZE, IMG_SIZE, 1)\n",
        "print(\"Training Samples dimension\", x_trainr.shape)\n",
        "print(\"Testing Samples dimension\", x_testr.shape)"
      ],
      "metadata": {
        "colab": {
          "base_uri": "https://localhost:8080/"
        },
        "id": "wU4t-i4Bnzbv",
        "outputId": "aef83250-712a-4c7d-f9b9-9b02cd4cd8a0"
      },
      "execution_count": null,
      "outputs": [
        {
          "output_type": "stream",
          "name": "stdout",
          "text": [
            "Training Samples dimension (60000, 28, 28, 1)\n",
            "Testing Samples dimension (10000, 28, 28, 1)\n"
          ]
        }
      ]
    },
    {
      "cell_type": "code",
      "source": [
        "from tensorflow.keras.models import Sequential\n",
        "from tensorflow.keras.layers import Dense, Dropout, Activation, Flatten, Conv2D, MaxPooling2D\n",
        "\n",
        "# Creating the network\n",
        "model = Sequential()\n",
        "\n",
        "### First Convolution Layer\n",
        "# 64 -> number of filters, (3,3) -> size of each kernal,\n",
        "model.add(Conv2D(64, (3,3), input_shape = x_trainr.shape[1:]))\n",
        "# For first layer we have to mention the size of input\n",
        "model.add(Activation('relu'))\n",
        "model.add(MaxPooling2D(pool_size=(2,2)))\n",
        "\n",
        "### Second Convolution Layer\n",
        "model.add(Conv2D(64, (3,3)))\n",
        "model.add(Activation('relu'))\n",
        "model.add(MaxPooling2D(pool_size=(2,2)))\n",
        "\n",
        "### Third Convolution Layer\n",
        "model.add(Conv2D(64, (3,3)))\n",
        "model.add(Activation('relu'))\n",
        "model.add(MaxPooling2D(pool_size=(2,2)))\n",
        "\n",
        "### Fully connected layer 1\n",
        "model.add(Flatten())\n",
        "model.add(Dense(64))\n",
        "model.add(Activation(\"relu\"))\n",
        "\n",
        "### Fully connected layer 2\n",
        "model.add(Dense(32))\n",
        "model.add(Activation(\"relu\"))\n",
        "\n",
        "### Fully connected layer 3, output layer must be equal to number of classes\n",
        "model.add(Dense(10))\n",
        "model.add(Activation(\"softmax\"))"
      ],
      "metadata": {
        "id": "vgtNHpEooTWf"
      },
      "execution_count": null,
      "outputs": []
    },
    {
      "cell_type": "code",
      "source": [
        "model.summary()"
      ],
      "metadata": {
        "colab": {
          "base_uri": "https://localhost:8080/"
        },
        "id": "Fp68b4foowa3",
        "outputId": "adca3aef-3a62-40be-cff8-2625d22e6cbe"
      },
      "execution_count": null,
      "outputs": [
        {
          "output_type": "stream",
          "name": "stdout",
          "text": [
            "Model: \"sequential\"\n",
            "_________________________________________________________________\n",
            " Layer (type)                Output Shape              Param #   \n",
            "=================================================================\n",
            " conv2d (Conv2D)             (None, 26, 26, 64)        640       \n",
            "                                                                 \n",
            " activation (Activation)     (None, 26, 26, 64)        0         \n",
            "                                                                 \n",
            " max_pooling2d (MaxPooling2  (None, 13, 13, 64)        0         \n",
            " D)                                                              \n",
            "                                                                 \n",
            " conv2d_1 (Conv2D)           (None, 11, 11, 64)        36928     \n",
            "                                                                 \n",
            " activation_1 (Activation)   (None, 11, 11, 64)        0         \n",
            "                                                                 \n",
            " max_pooling2d_1 (MaxPoolin  (None, 5, 5, 64)          0         \n",
            " g2D)                                                            \n",
            "                                                                 \n",
            " conv2d_2 (Conv2D)           (None, 3, 3, 64)          36928     \n",
            "                                                                 \n",
            " activation_2 (Activation)   (None, 3, 3, 64)          0         \n",
            "                                                                 \n",
            " max_pooling2d_2 (MaxPoolin  (None, 1, 1, 64)          0         \n",
            " g2D)                                                            \n",
            "                                                                 \n",
            " flatten (Flatten)           (None, 64)                0         \n",
            "                                                                 \n",
            " dense (Dense)               (None, 64)                4160      \n",
            "                                                                 \n",
            " activation_3 (Activation)   (None, 64)                0         \n",
            "                                                                 \n",
            " dense_1 (Dense)             (None, 32)                2080      \n",
            "                                                                 \n",
            " activation_4 (Activation)   (None, 32)                0         \n",
            "                                                                 \n",
            " dense_2 (Dense)             (None, 10)                330       \n",
            "                                                                 \n",
            " activation_5 (Activation)   (None, 10)                0         \n",
            "                                                                 \n",
            "=================================================================\n",
            "Total params: 81066 (316.66 KB)\n",
            "Trainable params: 81066 (316.66 KB)\n",
            "Non-trainable params: 0 (0.00 Byte)\n",
            "_________________________________________________________________\n"
          ]
        }
      ]
    },
    {
      "cell_type": "code",
      "source": [
        "model.compile(loss=\"sparse_categorical_crossentropy\", optimizer=\"adam\", metrics=['accuracy'])"
      ],
      "metadata": {
        "id": "PV5N4kYko0PG"
      },
      "execution_count": null,
      "outputs": []
    },
    {
      "cell_type": "code",
      "source": [
        "#training the model\n",
        "model.fit(x_trainr, y_train, epochs=5, validation_split = 0.3)"
      ],
      "metadata": {
        "colab": {
          "base_uri": "https://localhost:8080/"
        },
        "id": "sC3LB8MMo6G2",
        "outputId": "c72495d0-573a-4798-c141-90c1c0b2967b"
      },
      "execution_count": null,
      "outputs": [
        {
          "output_type": "stream",
          "name": "stdout",
          "text": [
            "Epoch 1/5\n",
            "1313/1313 [==============================] - 39s 29ms/step - loss: 0.3393 - accuracy: 0.8935 - val_loss: 0.1551 - val_accuracy: 0.9514\n",
            "Epoch 2/5\n",
            "1313/1313 [==============================] - 37s 28ms/step - loss: 0.1068 - accuracy: 0.9675 - val_loss: 0.0926 - val_accuracy: 0.9718\n",
            "Epoch 3/5\n",
            "1313/1313 [==============================] - 38s 29ms/step - loss: 0.0749 - accuracy: 0.9771 - val_loss: 0.0688 - val_accuracy: 0.9783\n",
            "Epoch 4/5\n",
            "1313/1313 [==============================] - 38s 29ms/step - loss: 0.0603 - accuracy: 0.9810 - val_loss: 0.0699 - val_accuracy: 0.9788\n",
            "Epoch 5/5\n",
            "1313/1313 [==============================] - 38s 29ms/step - loss: 0.0473 - accuracy: 0.9854 - val_loss: 0.0613 - val_accuracy: 0.9814\n"
          ]
        },
        {
          "output_type": "execute_result",
          "data": {
            "text/plain": [
              "<keras.src.callbacks.History at 0x7beb6c94b8e0>"
            ]
          },
          "metadata": {},
          "execution_count": 9
        }
      ]
    },
    {
      "cell_type": "code",
      "source": [
        "# Evaluating the accuracy on the test data\n",
        "test_loss, test_acc = model.evaluate(x_testr, y_test)\n",
        "print(\"Test Loss on 10,000 test samples\", test_loss)\n",
        "print(\"Test Accuracy on 10,000 test samples\", test_acc)"
      ],
      "metadata": {
        "colab": {
          "base_uri": "https://localhost:8080/"
        },
        "id": "xoqSalPHqIiG",
        "outputId": "31eb20f6-9332-4d8d-f08d-32462694fe15"
      },
      "execution_count": null,
      "outputs": [
        {
          "output_type": "stream",
          "name": "stdout",
          "text": [
            "313/313 [==============================] - 3s 9ms/step - loss: 0.0574 - accuracy: 0.9828\n",
            "Test Loss on 10,000 test samples 0.057441968470811844\n",
            "Test Accuracy on 10,000 test samples 0.9828000068664551\n"
          ]
        }
      ]
    },
    {
      "cell_type": "code",
      "source": [
        "predictions = model.predict([x_testr])\n",
        "print(predictions)\n",
        "\n",
        "plt.imshow(x_test[10])\n",
        "print(np.argmax(predictions[10]))"
      ],
      "metadata": {
        "colab": {
          "base_uri": "https://localhost:8080/",
          "height": 690
        },
        "id": "1ASQNT1sqNC1",
        "outputId": "594c9295-0b80-4fe6-957f-7bb70199c9f9"
      },
      "execution_count": null,
      "outputs": [
        {
          "output_type": "stream",
          "name": "stdout",
          "text": [
            "313/313 [==============================] - 2s 8ms/step\n",
            "[[1.7017568e-07 1.4320340e-05 7.4751333e-06 ... 9.9996167e-01\n",
            "  1.0056959e-06 7.9829606e-06]\n",
            " [6.3707179e-04 1.2427664e-06 9.9935889e-01 ... 8.3779881e-08\n",
            "  1.8894486e-08 1.0257370e-07]\n",
            " [9.7043099e-08 9.9999124e-01 9.4396185e-08 ... 1.6643502e-07\n",
            "  2.8595494e-07 3.2290451e-08]\n",
            " ...\n",
            " [5.4643422e-08 1.1236687e-06 2.2073402e-07 ... 1.5309513e-07\n",
            "  1.8458336e-06 1.5584876e-06]\n",
            " [2.0760101e-05 8.2094003e-09 1.8191477e-08 ... 5.6422511e-10\n",
            "  4.1773837e-06 1.4146874e-05]\n",
            " [6.5578031e-05 2.1907453e-11 9.6506465e-06 ... 1.8141941e-11\n",
            "  1.8646723e-07 5.8676397e-07]]\n",
            "0\n"
          ]
        },
        {
          "output_type": "display_data",
          "data": {
            "text/plain": [
              "<Figure size 640x480 with 1 Axes>"
            ],
            "image/png": "[encoded data removed]"
          },
          "metadata": {}
        }
      ]
    },
    {
      "cell_type": "code",
      "source": [
        "import cv2\n",
        "img = cv2.imread('four.png')\n",
        "plt.imshow(img)\n",
        "img.shape\n",
        "# (28, 28, 3)\n",
        "\n",
        "# Converting to grayscale\n",
        "gray = cv2.cvtColor(img, cv2.COLOR_BGR2GRAY)\n",
        "gray.shape\n",
        "# (28, 28)\n",
        "\n",
        "# Resizing to a 28x28 image\n",
        "# Please note my image was already in correct dimension\n",
        "resized = cv2.resize(gray, (28,28), interpolation = cv2.INTER_AREA)\n",
        "resized.shape\n",
        "# (28, 28)\n",
        "\n",
        "# 0-1 scaling\n",
        "newimg = tf.keras.utils.normalize(resized, axis = 1)\n",
        "\n",
        "# For kernal operations\n",
        "newimg = np.array(newimg).reshape(-1, IMG_SIZE, IMG_SIZE, 1)\n",
        "\n",
        "newimg.shape\n",
        "# (1, 28, 28, 1)\n",
        "\n",
        "predictions = model.predict(newimg)\n",
        "print(np.argmax(predictions[0]))"
      ],
      "metadata": {
        "colab": {
          "base_uri": "https://localhost:8080/",
          "height": 470
        },
        "id": "vPHPuJNYuAD0",
        "outputId": "6ce5b4b0-046d-4b33-ecdd-424d5e70111f"
      },
      "execution_count": null,
      "outputs": [
        {
          "output_type": "stream",
          "name": "stdout",
          "text": [
            "1/1 [==============================] - 0s 15ms/step\n",
            "4\n"
          ]
        },
        {
          "output_type": "display_data",
          "data": {
            "text/plain": [
              "<Figure size 640x480 with 1 Axes>"
            ],
            "image/png": "[encoded data removed]"
          },
          "metadata": {}
        }
      ]
    },
    {
      "cell_type": "code",
      "source": [
        "from google.colab import drive\n",
        "drive.mount('/content/drive')"
      ],
      "metadata": {
        "id": "k_VCxAirvrP2"
      },
      "execution_count": null,
      "outputs": []
    },
    {
      "cell_type": "code",
      "source": [
        "# Saving a Keras model:\n",
        "model.save('path/to/location')"
      ],
      "metadata": {
        "id": "tTpthDqbvbl_"
      },
      "execution_count": null,
      "outputs": []
    },
    {
      "cell_type": "code",
      "source": [
        "#from tensorflow import keras\n",
        "#model = keras.models.load_model('path/to/location')"
      ],
      "metadata": {
        "id": "0sMI_fj6xjEW"
      },
      "execution_count": null,
      "outputs": []
    }
  ]
}