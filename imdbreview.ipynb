{
  "nbformat": 4,
  "nbformat_minor": 0,
  "metadata": {
    "colab": {
      "provenance": []
    },
    "kernelspec": {
      "name": "python3",
      "display_name": "Python 3"
    },
    "language_info": {
      "name": "python"
    }
  },
  "cells": [
    {
      "cell_type": "code",
      "execution_count": 2,
      "metadata": {
        "id": "0oRbu-UVJ8XG"
      },
      "outputs": [],
      "source": [
        "import tensorflow as tf\n",
        "from tensorflow.keras.datasets import imdb\n",
        "from tensorflow.keras.preprocessing.sequence import pad_sequences\n",
        "from tensorflow.keras.layers import Embedding, LSTM, Dropout, Dense\n",
        "from tensorflow.keras.regularizers import l2"
      ]
    },
    {
      "cell_type": "code",
      "source": [
        "# Load the IMDB dataset\n",
        "(x_train, y_train), (x_test, y_test) = imdb.load_data(num_words=10000)  # Limit vocabulary size\n",
        "# Pad sequences to a maximum length of 250 words\n",
        "x_train = pad_sequences(x_train, maxlen=250)\n",
        "x_test = pad_sequences(x_test, maxlen=250)\n"
      ],
      "metadata": {
        "id": "pv7cm_O5j3Zn"
      },
      "execution_count": 27,
      "outputs": []
    },
    {
      "cell_type": "code",
      "source": [
        "# Create the RNN model\n",
        "model = tf.keras.Sequential([\n",
        "    Embedding(10000, 128),  # Embedding layer with 128-dimensional vectors\n",
        "    LSTM(64, dropout=0.2, recurrent_dropout=0.2),  # LSTM layer with dropout\n",
        "    Dense(1, activation='sigmoid', kernel_regularizer=l2(0.01))  # Output layer with L2 regularization\n",
        "])"
      ],
      "metadata": {
        "id": "J4-tpXKSkQIG"
      },
      "execution_count": 28,
      "outputs": []
    },
    {
      "cell_type": "code",
      "source": [
        "# Compile the model\n",
        "model.compile(loss='binary_crossentropy', optimizer='adam', metrics=['accuracy'])\n",
        "\n",
        "# Train the model\n",
        "history = model.fit(x_train, y_train, epochs=10, batch_size=32, validation_data=(x_test, y_test))"
      ],
      "metadata": {
        "colab": {
          "base_uri": "https://localhost:8080/"
        },
        "id": "zJENPmoZkc_F",
        "outputId": "1f1ca7eb-dce4-4275-dc6d-115a8c8bc1e7"
      },
      "execution_count": 29,
      "outputs": [
        {
          "output_type": "stream",
          "name": "stdout",
          "text": [
            "Epoch 1/10\n",
            "782/782 [==============================] - 337s 427ms/step - loss: 0.4445 - accuracy: 0.8068 - val_loss: 0.3702 - val_accuracy: 0.8460\n",
            "Epoch 2/10\n",
            "782/782 [==============================] - 341s 436ms/step - loss: 0.2731 - accuracy: 0.8986 - val_loss: 0.3174 - val_accuracy: 0.8703\n",
            "Epoch 3/10\n",
            "782/782 [==============================] - 340s 435ms/step - loss: 0.2286 - accuracy: 0.9213 - val_loss: 0.3531 - val_accuracy: 0.8585\n",
            "Epoch 4/10\n",
            "782/782 [==============================] - 341s 436ms/step - loss: 0.2181 - accuracy: 0.9232 - val_loss: 0.3598 - val_accuracy: 0.8702\n",
            "Epoch 5/10\n",
            "782/782 [==============================] - 338s 432ms/step - loss: 0.1693 - accuracy: 0.9431 - val_loss: 0.3505 - val_accuracy: 0.8746\n",
            "Epoch 6/10\n",
            "782/782 [==============================] - 353s 452ms/step - loss: 0.1518 - accuracy: 0.9510 - val_loss: 0.3777 - val_accuracy: 0.8607\n",
            "Epoch 7/10\n",
            "782/782 [==============================] - 354s 453ms/step - loss: 0.1247 - accuracy: 0.9616 - val_loss: 0.3696 - val_accuracy: 0.8682\n",
            "Epoch 8/10\n",
            "782/782 [==============================] - 338s 432ms/step - loss: 0.1063 - accuracy: 0.9679 - val_loss: 0.4071 - val_accuracy: 0.8715\n",
            "Epoch 9/10\n",
            "782/782 [==============================] - 339s 434ms/step - loss: 0.1532 - accuracy: 0.9506 - val_loss: 0.3947 - val_accuracy: 0.8580\n",
            "Epoch 10/10\n",
            "782/782 [==============================] - 338s 432ms/step - loss: 0.1243 - accuracy: 0.9618 - val_loss: 0.4052 - val_accuracy: 0.8642\n"
          ]
        }
      ]
    },
    {
      "cell_type": "code",
      "source": [
        "# Evaluate the model\n",
        "test_loss, test_acc = model.evaluate(x_test, y_test)\n",
        "print('Test accuracy:', test_acc)"
      ],
      "metadata": {
        "colab": {
          "base_uri": "https://localhost:8080/"
        },
        "id": "Y_-83Sus5AmT",
        "outputId": "36e5da1c-a497-4a20-af87-b1624c448867"
      },
      "execution_count": 30,
      "outputs": [
        {
          "output_type": "stream",
          "name": "stdout",
          "text": [
            "782/782 [==============================] - 40s 51ms/step - loss: 0.4052 - accuracy: 0.8642\n",
            "Test accuracy: 0.8642399907112122\n"
          ]
        }
      ]
    },
    {
      "cell_type": "code",
      "source": [
        "word_index = imdb.get_word_index()\n",
        "# Load a new movie review to predict its sentiment\n",
        "new_review = \"This movie good .\"\n",
        "\n",
        "OOV_TOKEN = \"<OOV>\"\n",
        "OOV_INDEX = 0  # Set a specific index for OOV words\n",
        "\n",
        "# Replace words not in the word index with the OOV token\n",
        "new_review_indices = [word_index.get(word, OOV_INDEX) for word in new_review.split()]\n",
        "\n",
        "# Preprocess the review (tokenize, convert to sequences, and pad)\n",
        "new_review_seq = pad_sequences(sequences=[new_review_indices], maxlen=250)\n",
        "\n",
        "# Make the prediction using the trained model\n",
        "prediction = model.predict(new_review_seq)\n",
        "print(prediction[0]);\n",
        "# Interpret the prediction (0 for negative, 1 for positive)\n",
        "if prediction[0] > 0.5:\n",
        "    print(f\"The review is predicted to be positive with a confidence of {prediction[0][0]:.2f}.\")\n",
        "else:\n",
        "    print(f\"The review is predicted to be negative with a confidence of {1 - prediction[0][0]:.2f}.\")"
      ],
      "metadata": {
        "colab": {
          "base_uri": "https://localhost:8080/"
        },
        "id": "uL7H_w4I5clj",
        "outputId": "9d46ac5d-8c4f-4879-d1a6-515d8234abbe"
      },
      "execution_count": 46,
      "outputs": [
        {
          "output_type": "stream",
          "name": "stdout",
          "text": [
            "1/1 [==============================] - 0s 40ms/step\n",
            "[0.527655]\n",
            "The review is predicted to be positive with a confidence of 0.53.\n"
          ]
        }
      ]
    },
    {
      "cell_type": "code",
      "source": [
        "model.save('imdbreview.keras')"
      ],
      "metadata": {
        "id": "0SUQoxXjLygd"
      },
      "execution_count": 48,
      "outputs": []
    }
  ]
}